{
  "metadata": {
    "kernelspec": {
      "language": "python",
      "display_name": "Python 3",
      "name": "python3"
    },
    "language_info": {
      "name": "python",
      "version": "3.10.13",
      "mimetype": "text/x-python",
      "codemirror_mode": {
        "name": "ipython",
        "version": 3
      },
      "pygments_lexer": "ipython3",
      "nbconvert_exporter": "python",
      "file_extension": ".py"
    },
    "kaggle": {
      "accelerator": "none",
      "dataSources": [
        {
          "sourceId": 3136,
          "databundleVersionId": 26502,
          "sourceType": "competition"
        }
      ],
      "dockerImageVersionId": 30732,
      "isInternetEnabled": true,
      "language": "python",
      "sourceType": "notebook",
      "isGpuEnabled": false
    },
    "colab": {
      "name": "Titanic - Machine Learning from Disaster",
      "provenance": [],
      "include_colab_link": true
    }
  },
  "nbformat_minor": 0,
  "nbformat": 4,
  "cells": [
    {
      "cell_type": "markdown",
      "metadata": {
        "id": "view-in-github",
        "colab_type": "text"
      },
      "source": [
        "<a href=\"https://colab.research.google.com/github/ParthibMudi/Titanic---Machine-Learning-from-Disaster/blob/main/Titanic_Machine_Learning_from_Disaster.ipynb\" target=\"_parent\"><img src=\"https://colab.research.google.com/assets/colab-badge.svg\" alt=\"Open In Colab\"/></a>"
      ]
    },
    {
      "source": [
        "\n",
        "# IMPORTANT: RUN THIS CELL IN ORDER TO IMPORT YOUR KAGGLE DATA SOURCES\n",
        "# TO THE CORRECT LOCATION (/kaggle/input) IN YOUR NOTEBOOK,\n",
        "# THEN FEEL FREE TO DELETE THIS CELL.\n",
        "# NOTE: THIS NOTEBOOK ENVIRONMENT DIFFERS FROM KAGGLE'S PYTHON\n",
        "# ENVIRONMENT SO THERE MAY BE MISSING LIBRARIES USED BY YOUR\n",
        "# NOTEBOOK.\n",
        "\n",
        "import os\n",
        "import sys\n",
        "from tempfile import NamedTemporaryFile\n",
        "from urllib.request import urlopen\n",
        "from urllib.parse import unquote, urlparse\n",
        "from urllib.error import HTTPError\n",
        "from zipfile import ZipFile\n",
        "import tarfile\n",
        "import shutil\n",
        "\n",
        "CHUNK_SIZE = 40960\n",
        "DATA_SOURCE_MAPPING = 'titanic:https%3A%2F%2Fstorage.googleapis.com%2Fkaggle-competitions-data%2Fkaggle-v2%2F3136%2F26502%2Fbundle%2Farchive.zip%3FX-Goog-Algorithm%3DGOOG4-RSA-SHA256%26X-Goog-Credential%3Dgcp-kaggle-com%2540kaggle-161607.iam.gserviceaccount.com%252F20240803%252Fauto%252Fstorage%252Fgoog4_request%26X-Goog-Date%3D20240803T185042Z%26X-Goog-Expires%3D259200%26X-Goog-SignedHeaders%3Dhost%26X-Goog-Signature%3Dad4bf4ddb351df68712ad73fc723685c65e5a1ba0bf0f882fb4ba028aa1c5949f9f686c1344eda7aac044d94ab6f00ea6c39a0444579e7c89c78d343b2944a5cb9ffdf0e755d3b91479f6d0b9be445c65e95fb054f554cae05b3f222278de940a6e397355b841b6b430752e1abd4f877f1e8fc3a4f36bb8283b95cf2e550f263a8e68cfa6b3d24c56902927f9bfe7c662979ceb6398cfb5766783e467b1e50f546032ff5ad9887f6cd0670baa748601c1120bed105caff11fa3d2c596887b1fbc0fc7d0bb28faade0c34c77174c81c375cecee6988094f36b2ee73b1fe076bfd533400521e6a0e17ce6d9411e74d6445f2fef7e551cc44100a987d2eb8fc4819'\n",
        "\n",
        "KAGGLE_INPUT_PATH='/kaggle/input'\n",
        "KAGGLE_WORKING_PATH='/kaggle/working'\n",
        "KAGGLE_SYMLINK='kaggle'\n",
        "\n",
        "!umount /kaggle/input/ 2> /dev/null\n",
        "shutil.rmtree('/kaggle/input', ignore_errors=True)\n",
        "os.makedirs(KAGGLE_INPUT_PATH, 0o777, exist_ok=True)\n",
        "os.makedirs(KAGGLE_WORKING_PATH, 0o777, exist_ok=True)\n",
        "\n",
        "try:\n",
        "  os.symlink(KAGGLE_INPUT_PATH, os.path.join(\"..\", 'input'), target_is_directory=True)\n",
        "except FileExistsError:\n",
        "  pass\n",
        "try:\n",
        "  os.symlink(KAGGLE_WORKING_PATH, os.path.join(\"..\", 'working'), target_is_directory=True)\n",
        "except FileExistsError:\n",
        "  pass\n",
        "\n",
        "for data_source_mapping in DATA_SOURCE_MAPPING.split(','):\n",
        "    directory, download_url_encoded = data_source_mapping.split(':')\n",
        "    download_url = unquote(download_url_encoded)\n",
        "    filename = urlparse(download_url).path\n",
        "    destination_path = os.path.join(KAGGLE_INPUT_PATH, directory)\n",
        "    try:\n",
        "        with urlopen(download_url) as fileres, NamedTemporaryFile() as tfile:\n",
        "            total_length = fileres.headers['content-length']\n",
        "            print(f'Downloading {directory}, {total_length} bytes compressed')\n",
        "            dl = 0\n",
        "            data = fileres.read(CHUNK_SIZE)\n",
        "            while len(data) > 0:\n",
        "                dl += len(data)\n",
        "                tfile.write(data)\n",
        "                done = int(50 * dl / int(total_length))\n",
        "                sys.stdout.write(f\"\\r[{'=' * done}{' ' * (50-done)}] {dl} bytes downloaded\")\n",
        "                sys.stdout.flush()\n",
        "                data = fileres.read(CHUNK_SIZE)\n",
        "            if filename.endswith('.zip'):\n",
        "              with ZipFile(tfile) as zfile:\n",
        "                zfile.extractall(destination_path)\n",
        "            else:\n",
        "              with tarfile.open(tfile.name) as tarfile:\n",
        "                tarfile.extractall(destination_path)\n",
        "            print(f'\\nDownloaded and uncompressed: {directory}')\n",
        "    except HTTPError as e:\n",
        "        print(f'Failed to load (likely expired) {download_url} to path {destination_path}')\n",
        "        continue\n",
        "    except OSError as e:\n",
        "        print(f'Failed to load {download_url} to path {destination_path}')\n",
        "        continue\n",
        "\n",
        "print('Data source import complete.')\n"
      ],
      "metadata": {
        "id": "gWi2OV-YlHY4"
      },
      "cell_type": "code",
      "outputs": [],
      "execution_count": null
    },
    {
      "cell_type": "code",
      "source": [
        "# This Python 3 environment comes with many helpful analytics libraries installed\n",
        "# It is defined by the kaggle/python Docker image: https://github.com/kaggle/docker-python\n",
        "# For example, here's several helpful packages to load\n",
        "\n",
        "import numpy as np # linear algebra\n",
        "import pandas as pd # data processing, CSV file I/O (e.g. pd.read_csv)\n",
        "\n",
        "# Input data files are available in the read-only \"../input/\" directory\n",
        "# For example, running this (by clicking run or pressing Shift+Enter) will list all files under the input directory\n",
        "\n",
        "import os\n",
        "for dirname, _, filenames in os.walk('/kaggle/input'):\n",
        "    for filename in filenames:\n",
        "        print(os.path.join(dirname, filename))\n",
        "\n",
        "# You can write up to 20GB to the current directory (/kaggle/working/) that gets preserved as output when you create a version using \"Save & Run All\"\n",
        "# You can also write temporary files to /kaggle/temp/, but they won't be saved outside of the current session"
      ],
      "metadata": {
        "_uuid": "8f2839f25d086af736a60e9eeb907d3b93b6e0e5",
        "_cell_guid": "b1076dfc-b9ad-4769-8c92-a6c4dae69d19",
        "execution": {
          "iopub.status.busy": "2024-06-28T11:59:00.298548Z",
          "iopub.execute_input": "2024-06-28T11:59:00.298962Z",
          "iopub.status.idle": "2024-06-28T11:59:01.662894Z",
          "shell.execute_reply.started": "2024-06-28T11:59:00.298915Z",
          "shell.execute_reply": "2024-06-28T11:59:01.661585Z"
        },
        "trusted": true,
        "id": "CI5zpFcElHY_"
      },
      "execution_count": null,
      "outputs": []
    },
    {
      "cell_type": "code",
      "source": [
        "import numpy as np\n",
        "import pandas as pd\n",
        "import matplotlib.pyplot as plt\n",
        "import sklearn\n",
        "from sklearn.preprocessing import StandardScaler\n",
        "from sklearn.metrics import classification_report, confusion_matrix\n",
        "import tensorflow as tf\n",
        "from tensorflow.keras.models import Sequential\n",
        "from tensorflow.keras.layers import Dense"
      ],
      "metadata": {
        "execution": {
          "iopub.status.busy": "2024-06-28T13:08:54.186535Z",
          "iopub.execute_input": "2024-06-28T13:08:54.187102Z",
          "iopub.status.idle": "2024-06-28T13:09:11.140431Z",
          "shell.execute_reply.started": "2024-06-28T13:08:54.187062Z",
          "shell.execute_reply": "2024-06-28T13:09:11.139269Z"
        },
        "trusted": true,
        "id": "KqHeEzfblHY_"
      },
      "execution_count": null,
      "outputs": []
    },
    {
      "cell_type": "code",
      "source": [
        "train=pd.read_csv('/kaggle/input/titanic/train.csv')\n",
        "test=pd.read_csv('/kaggle/input/titanic/test.csv')\n",
        "test_output=pd.read_csv('/kaggle/input/titanic/gender_submission.csv')\n"
      ],
      "metadata": {
        "execution": {
          "iopub.status.busy": "2024-06-28T12:40:19.33051Z",
          "iopub.execute_input": "2024-06-28T12:40:19.330923Z",
          "iopub.status.idle": "2024-06-28T12:40:19.354691Z",
          "shell.execute_reply.started": "2024-06-28T12:40:19.330894Z",
          "shell.execute_reply": "2024-06-28T12:40:19.353645Z"
        },
        "trusted": true,
        "id": "P11AEmrnlHZA"
      },
      "execution_count": null,
      "outputs": []
    },
    {
      "cell_type": "code",
      "source": [
        "train"
      ],
      "metadata": {
        "execution": {
          "iopub.status.busy": "2024-06-28T12:41:23.962857Z",
          "iopub.execute_input": "2024-06-28T12:41:23.963336Z",
          "iopub.status.idle": "2024-06-28T12:41:23.985698Z",
          "shell.execute_reply.started": "2024-06-28T12:41:23.963303Z",
          "shell.execute_reply": "2024-06-28T12:41:23.984603Z"
        },
        "trusted": true,
        "id": "EoXHvUoflHZB"
      },
      "execution_count": null,
      "outputs": []
    },
    {
      "cell_type": "code",
      "source": [
        "test"
      ],
      "metadata": {
        "execution": {
          "iopub.status.busy": "2024-06-28T12:06:15.204038Z",
          "iopub.execute_input": "2024-06-28T12:06:15.204463Z",
          "iopub.status.idle": "2024-06-28T12:06:15.228825Z",
          "shell.execute_reply.started": "2024-06-28T12:06:15.204431Z",
          "shell.execute_reply": "2024-06-28T12:06:15.227495Z"
        },
        "trusted": true,
        "id": "2G83BJIUlHZB"
      },
      "execution_count": null,
      "outputs": []
    },
    {
      "cell_type": "code",
      "source": [
        "test_output"
      ],
      "metadata": {
        "execution": {
          "iopub.status.busy": "2024-06-28T12:06:47.476151Z",
          "iopub.execute_input": "2024-06-28T12:06:47.476596Z",
          "iopub.status.idle": "2024-06-28T12:06:47.489434Z",
          "shell.execute_reply.started": "2024-06-28T12:06:47.476563Z",
          "shell.execute_reply": "2024-06-28T12:06:47.488141Z"
        },
        "trusted": true,
        "id": "EJdlRID2lHZC"
      },
      "execution_count": null,
      "outputs": []
    },
    {
      "cell_type": "code",
      "source": [
        "# plt.figure(figsize=(10, 6))\n",
        "# plt.scatter( train['Fare'],train['Survived'], s=train['Pclass'], alpha=0.5)\n",
        "\n",
        "# # Optionally, add labels and title\n",
        "# plt.xlabel('Column 1')\n",
        "# plt.ylabel('Column 2')\n",
        "# plt.title('Scatter Plot between Column 1 and Column 2 with sizes from Column 3')\n",
        "\n",
        "# # Show the plot\n",
        "# plt.show()\n",
        "\n",
        "# fig = plt.figure()\n",
        "# ax = fig.add_subplot(111, projection='3d')\n",
        "\n",
        "# ax.scatter( train['Fare'],train['Survived'],train['Pclass'], c='r', marker='o')\n",
        "\n",
        "# # Adding labels\n",
        "# ax.set_xlabel('X Label')\n",
        "# ax.set_ylabel('Y Label')\n",
        "# ax.set_zlabel('Z Label')\n",
        "\n",
        "# plt.show()"
      ],
      "metadata": {
        "execution": {
          "iopub.status.busy": "2024-06-28T12:26:00.208506Z",
          "iopub.execute_input": "2024-06-28T12:26:00.208947Z",
          "iopub.status.idle": "2024-06-28T12:26:00.215608Z",
          "shell.execute_reply.started": "2024-06-28T12:26:00.208899Z",
          "shell.execute_reply": "2024-06-28T12:26:00.214038Z"
        },
        "trusted": true,
        "id": "R1zPlkXZlHZE"
      },
      "execution_count": null,
      "outputs": []
    },
    {
      "cell_type": "code",
      "source": [
        "train=train.drop(['Name','PassengerId','Ticket','Cabin'],axis=1)\n",
        "train"
      ],
      "metadata": {
        "execution": {
          "iopub.status.busy": "2024-06-28T12:41:32.813246Z",
          "iopub.execute_input": "2024-06-28T12:41:32.81372Z",
          "iopub.status.idle": "2024-06-28T12:41:32.835858Z",
          "shell.execute_reply.started": "2024-06-28T12:41:32.813683Z",
          "shell.execute_reply": "2024-06-28T12:41:32.834529Z"
        },
        "trusted": true,
        "id": "SXvrcQPzlHZF"
      },
      "execution_count": null,
      "outputs": []
    },
    {
      "cell_type": "code",
      "source": [
        "train.info()"
      ],
      "metadata": {
        "execution": {
          "iopub.status.busy": "2024-06-28T12:41:38.736179Z",
          "iopub.execute_input": "2024-06-28T12:41:38.736612Z",
          "iopub.status.idle": "2024-06-28T12:41:38.75138Z",
          "shell.execute_reply.started": "2024-06-28T12:41:38.736579Z",
          "shell.execute_reply": "2024-06-28T12:41:38.750025Z"
        },
        "trusted": true,
        "id": "BPNyjOpflHZG"
      },
      "execution_count": null,
      "outputs": []
    },
    {
      "cell_type": "code",
      "source": [
        "mapping = {'C': 1, 'Q': 0, 'S': -1}\n",
        "train['Embarked']=train['Embarked'].map(mapping)\n",
        "train"
      ],
      "metadata": {
        "execution": {
          "iopub.status.busy": "2024-06-28T12:43:16.981913Z",
          "iopub.execute_input": "2024-06-28T12:43:16.982356Z",
          "iopub.status.idle": "2024-06-28T12:43:17.005232Z",
          "shell.execute_reply.started": "2024-06-28T12:43:16.982324Z",
          "shell.execute_reply": "2024-06-28T12:43:17.004016Z"
        },
        "trusted": true,
        "id": "LhhFuASylHZH"
      },
      "execution_count": null,
      "outputs": []
    },
    {
      "cell_type": "code",
      "source": [
        "u=train['Sex'].unique()\n",
        "print(u)"
      ],
      "metadata": {
        "execution": {
          "iopub.status.busy": "2024-06-28T12:46:30.683931Z",
          "iopub.execute_input": "2024-06-28T12:46:30.684429Z",
          "iopub.status.idle": "2024-06-28T12:46:30.692773Z",
          "shell.execute_reply.started": "2024-06-28T12:46:30.684396Z",
          "shell.execute_reply": "2024-06-28T12:46:30.691423Z"
        },
        "trusted": true,
        "id": "CYdloDOZlHZH"
      },
      "execution_count": null,
      "outputs": []
    },
    {
      "cell_type": "code",
      "source": [
        "mapping= {'male':1,'female':0}\n",
        "train['Sex']=train['Sex'].map(mapping)\n",
        "train"
      ],
      "metadata": {
        "execution": {
          "iopub.status.busy": "2024-06-28T12:50:00.94689Z",
          "iopub.execute_input": "2024-06-28T12:50:00.947976Z",
          "iopub.status.idle": "2024-06-28T12:50:00.968832Z",
          "shell.execute_reply.started": "2024-06-28T12:50:00.947939Z",
          "shell.execute_reply": "2024-06-28T12:50:00.967634Z"
        },
        "trusted": true,
        "id": "_Lh6xrAXlHZI"
      },
      "execution_count": null,
      "outputs": []
    },
    {
      "cell_type": "code",
      "source": [
        "train=train.dropna()\n",
        "train"
      ],
      "metadata": {
        "execution": {
          "iopub.status.busy": "2024-06-28T12:55:17.786018Z",
          "iopub.execute_input": "2024-06-28T12:55:17.786454Z",
          "iopub.status.idle": "2024-06-28T12:55:17.809237Z",
          "shell.execute_reply.started": "2024-06-28T12:55:17.786423Z",
          "shell.execute_reply": "2024-06-28T12:55:17.808019Z"
        },
        "trusted": true,
        "id": "bjVu2WAmlHZI"
      },
      "execution_count": null,
      "outputs": []
    },
    {
      "cell_type": "code",
      "source": [
        "test = train['Survived']\n",
        "y_train =test"
      ],
      "metadata": {
        "execution": {
          "iopub.status.busy": "2024-06-28T13:10:29.643154Z",
          "iopub.execute_input": "2024-06-28T13:10:29.644044Z",
          "iopub.status.idle": "2024-06-28T13:10:30.178359Z",
          "shell.execute_reply.started": "2024-06-28T13:10:29.644005Z",
          "shell.execute_reply": "2024-06-28T13:10:30.176717Z"
        },
        "trusted": true,
        "id": "27xMhJv1lHZI"
      },
      "execution_count": null,
      "outputs": []
    },
    {
      "cell_type": "code",
      "source": [
        "train=train.drop('Survived',axis=1)\n",
        "train"
      ],
      "metadata": {
        "execution": {
          "iopub.status.busy": "2024-06-28T13:03:17.321415Z",
          "iopub.execute_input": "2024-06-28T13:03:17.321829Z",
          "iopub.status.idle": "2024-06-28T13:03:17.341024Z",
          "shell.execute_reply.started": "2024-06-28T13:03:17.321797Z",
          "shell.execute_reply": "2024-06-28T13:03:17.33996Z"
        },
        "trusted": true,
        "id": "H0e7NrKUlHZJ"
      },
      "execution_count": null,
      "outputs": []
    },
    {
      "cell_type": "code",
      "source": [
        "x_test=pd.read_csv('/kaggle/input/titanic/test.csv')\n",
        "y_test_output=pd.read_csv('/kaggle/input/titanic/gender_submission.csv')\n"
      ],
      "metadata": {
        "execution": {
          "iopub.status.busy": "2024-06-28T13:17:40.651577Z",
          "iopub.execute_input": "2024-06-28T13:17:40.652011Z",
          "iopub.status.idle": "2024-06-28T13:17:40.667452Z",
          "shell.execute_reply.started": "2024-06-28T13:17:40.65198Z",
          "shell.execute_reply": "2024-06-28T13:17:40.666263Z"
        },
        "trusted": true,
        "id": "gKEGzwcmlHZJ"
      },
      "execution_count": null,
      "outputs": []
    },
    {
      "cell_type": "code",
      "source": [
        "x_test = x_test.drop(['PassengerId','Name','Cabin'],axis=1)\n",
        "x_test\n"
      ],
      "metadata": {
        "execution": {
          "iopub.status.busy": "2024-06-28T13:20:39.621224Z",
          "iopub.execute_input": "2024-06-28T13:20:39.621717Z",
          "iopub.status.idle": "2024-06-28T13:20:39.645603Z",
          "shell.execute_reply.started": "2024-06-28T13:20:39.621682Z",
          "shell.execute_reply": "2024-06-28T13:20:39.644309Z"
        },
        "trusted": true,
        "id": "jY0ndhmdlHZJ"
      },
      "execution_count": null,
      "outputs": []
    },
    {
      "cell_type": "code",
      "source": [
        "x_test = x_test.drop(['Ticket'],axis=1)\n",
        "x_test\n"
      ],
      "metadata": {
        "execution": {
          "iopub.status.busy": "2024-06-28T13:21:34.825569Z",
          "iopub.execute_input": "2024-06-28T13:21:34.826041Z",
          "iopub.status.idle": "2024-06-28T13:21:34.849724Z",
          "shell.execute_reply.started": "2024-06-28T13:21:34.826008Z",
          "shell.execute_reply": "2024-06-28T13:21:34.847449Z"
        },
        "trusted": true,
        "id": "wxcfU2xNlHZJ"
      },
      "execution_count": null,
      "outputs": []
    },
    {
      "cell_type": "code",
      "source": [
        "mapping= {'male':1,'female':0}\n",
        "x_test['Sex']=x_test['Sex'].map(mapping)\n",
        "x_test\n"
      ],
      "metadata": {
        "execution": {
          "iopub.status.busy": "2024-06-28T13:22:52.330891Z",
          "iopub.execute_input": "2024-06-28T13:22:52.331695Z",
          "iopub.status.idle": "2024-06-28T13:22:52.353293Z",
          "shell.execute_reply.started": "2024-06-28T13:22:52.331651Z",
          "shell.execute_reply": "2024-06-28T13:22:52.352004Z"
        },
        "trusted": true,
        "id": "hliJcarolHZK"
      },
      "execution_count": null,
      "outputs": []
    },
    {
      "cell_type": "code",
      "source": [
        "mapping = {'C': 1, 'Q': 0, 'S': -1}\n",
        "x_test['Embarked']=x_test['Embarked'].map(mapping)\n",
        "x_test"
      ],
      "metadata": {
        "execution": {
          "iopub.status.busy": "2024-06-28T13:23:46.45879Z",
          "iopub.execute_input": "2024-06-28T13:23:46.45924Z",
          "iopub.status.idle": "2024-06-28T13:23:46.479329Z",
          "shell.execute_reply.started": "2024-06-28T13:23:46.4592Z",
          "shell.execute_reply": "2024-06-28T13:23:46.478087Z"
        },
        "trusted": true,
        "id": "sqwVA_OalHZK"
      },
      "execution_count": null,
      "outputs": []
    },
    {
      "cell_type": "code",
      "source": [
        "y_test=y_test_output"
      ],
      "metadata": {
        "execution": {
          "iopub.status.busy": "2024-06-28T13:24:38.421723Z",
          "iopub.execute_input": "2024-06-28T13:24:38.422264Z",
          "iopub.status.idle": "2024-06-28T13:24:38.428179Z",
          "shell.execute_reply.started": "2024-06-28T13:24:38.422227Z",
          "shell.execute_reply": "2024-06-28T13:24:38.426684Z"
        },
        "trusted": true,
        "id": "Swt63fp0lHZK"
      },
      "execution_count": null,
      "outputs": []
    },
    {
      "cell_type": "code",
      "source": [],
      "metadata": {
        "id": "eo5tJfq2lHZL"
      },
      "execution_count": null,
      "outputs": []
    },
    {
      "cell_type": "code",
      "source": [],
      "metadata": {
        "id": "dteibpe7lHZL"
      },
      "execution_count": null,
      "outputs": []
    },
    {
      "cell_type": "code",
      "source": [
        "y_train =test\n",
        "x_train=train\n",
        "scaler = StandardScaler()\n",
        "x_train_scaled = scaler.fit_transform(x_train)"
      ],
      "metadata": {
        "execution": {
          "iopub.status.busy": "2024-06-28T13:12:05.80423Z",
          "iopub.execute_input": "2024-06-28T13:12:05.804651Z",
          "iopub.status.idle": "2024-06-28T13:12:05.816899Z",
          "shell.execute_reply.started": "2024-06-28T13:12:05.80462Z",
          "shell.execute_reply": "2024-06-28T13:12:05.815342Z"
        },
        "trusted": true,
        "id": "NeeGXm6olHZL"
      },
      "execution_count": null,
      "outputs": []
    },
    {
      "cell_type": "code",
      "source": [
        "x_test_scaled = scaler.fit_transform(x_test)"
      ],
      "metadata": {
        "execution": {
          "iopub.status.busy": "2024-06-28T13:29:22.79556Z",
          "iopub.execute_input": "2024-06-28T13:29:22.796098Z",
          "iopub.status.idle": "2024-06-28T13:29:22.80815Z",
          "shell.execute_reply.started": "2024-06-28T13:29:22.796061Z",
          "shell.execute_reply": "2024-06-28T13:29:22.806864Z"
        },
        "trusted": true,
        "id": "xd8X1eoulHZL"
      },
      "execution_count": null,
      "outputs": []
    },
    {
      "cell_type": "code",
      "source": [
        "y_test=y_test.drop('PassengerId',axis=1)\n"
      ],
      "metadata": {
        "execution": {
          "iopub.status.busy": "2024-06-28T13:30:37.391232Z",
          "iopub.execute_input": "2024-06-28T13:30:37.391748Z",
          "iopub.status.idle": "2024-06-28T13:30:37.398869Z",
          "shell.execute_reply.started": "2024-06-28T13:30:37.391714Z",
          "shell.execute_reply": "2024-06-28T13:30:37.397329Z"
        },
        "trusted": true,
        "id": "3hsIoI58lHZL"
      },
      "execution_count": null,
      "outputs": []
    },
    {
      "cell_type": "code",
      "source": [
        "model = Sequential([\n",
        "    Dense(32, activation='relu', input_shape=(7,)),  # 7 input features\n",
        "    Dense(16, activation='relu'),\n",
        "    Dense(1, activation='sigmoid')  # Output layer with sigmoid activation for binary classification\n",
        "])"
      ],
      "metadata": {
        "execution": {
          "iopub.status.busy": "2024-06-28T13:30:43.320081Z",
          "iopub.execute_input": "2024-06-28T13:30:43.32054Z",
          "iopub.status.idle": "2024-06-28T13:30:43.363244Z",
          "shell.execute_reply.started": "2024-06-28T13:30:43.320503Z",
          "shell.execute_reply": "2024-06-28T13:30:43.362037Z"
        },
        "trusted": true,
        "id": "4XqFwLu1lHZL"
      },
      "execution_count": null,
      "outputs": []
    },
    {
      "cell_type": "code",
      "source": [
        "# Compile the model\n",
        "model.compile(optimizer='adam',\n",
        "              loss='binary_crossentropy',\n",
        "              metrics=['accuracy'])"
      ],
      "metadata": {
        "execution": {
          "iopub.status.busy": "2024-06-28T13:30:51.077675Z",
          "iopub.execute_input": "2024-06-28T13:30:51.078145Z",
          "iopub.status.idle": "2024-06-28T13:30:51.089519Z",
          "shell.execute_reply.started": "2024-06-28T13:30:51.078104Z",
          "shell.execute_reply": "2024-06-28T13:30:51.088245Z"
        },
        "trusted": true,
        "id": "P9ZVHOz9lHZM"
      },
      "execution_count": null,
      "outputs": []
    },
    {
      "cell_type": "code",
      "source": [
        "# Train the model\n",
        "model.fit(x_train_scaled, y_train, epochs=20, batch_size=32, validation_data=(x_test_scaled, y_test))"
      ],
      "metadata": {
        "execution": {
          "iopub.status.busy": "2024-06-28T13:30:58.514737Z",
          "iopub.execute_input": "2024-06-28T13:30:58.516303Z",
          "iopub.status.idle": "2024-06-28T13:31:03.069241Z",
          "shell.execute_reply.started": "2024-06-28T13:30:58.516239Z",
          "shell.execute_reply": "2024-06-28T13:31:03.067947Z"
        },
        "trusted": true,
        "id": "F9M3d6QdlHZN"
      },
      "execution_count": null,
      "outputs": []
    },
    {
      "cell_type": "markdown",
      "source": [
        "Nureal network(ANN)"
      ],
      "metadata": {
        "id": "uVWMoIJYlHZN"
      }
    },
    {
      "cell_type": "code",
      "source": [
        "# Example model using Sequential API\n",
        "model = Sequential([\n",
        "    Dense(32, activation='relu', input_shape=(7,)),  # Specify input_shape on the first layer\n",
        "    Dense(16, activation='relu'),\n",
        "    Dense(1, activation='sigmoid')\n",
        "])"
      ],
      "metadata": {
        "id": "6QyegSqvlHZP"
      },
      "execution_count": null,
      "outputs": []
    },
    {
      "cell_type": "code",
      "source": [
        "# Compile the model\n",
        "model.compile(optimizer='adam',\n",
        "              loss='binary_crossentropy',\n",
        "              metrics=['accuracy'])\n"
      ],
      "metadata": {
        "id": "ys5-aABBlHZP"
      },
      "execution_count": null,
      "outputs": []
    },
    {
      "cell_type": "code",
      "source": [
        "model.fit(X_train, y_train, epochs=10, batch_size=32, validation_split=0.2)"
      ],
      "metadata": {
        "id": "VDoAT-_WlHZP"
      },
      "execution_count": null,
      "outputs": []
    }
  ]
}